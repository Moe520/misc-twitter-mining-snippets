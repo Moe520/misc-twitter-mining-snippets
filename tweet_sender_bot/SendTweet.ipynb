{
  "cells": [
    {
      "cell_type": "code",
      "source": [
        "import tweepy\n",
        "import time\n",
        "from random import randrange, choice\n",
        "import json\n",
        "import os\n",
        "import glob\n",
        "from datetime import datetime"
      ],
      "outputs": [],
      "execution_count": 10,
      "metadata": {
        "execution": {
          "iopub.status.busy": "2022-07-24T01:26:10.245Z",
          "iopub.execute_input": "2022-07-24T01:26:10.249Z",
          "iopub.status.idle": "2022-07-24T01:26:10.254Z",
          "shell.execute_reply": "2022-07-24T01:26:10.256Z"
        }
      },
      "id": "e295af7c-aa16-45b5-a299-76fa2111b2ac"
    },
    {
      "cell_type": "code",
      "source": [],
      "outputs": [],
      "execution_count": null,
      "metadata": {},
      "id": "fc51d6f1-2ced-4380-8436-0cf4cacfe8a7"
    },
    {
      "cell_type": "code",
      "source": [],
      "outputs": [],
      "execution_count": null,
      "metadata": {},
      "id": "b87c3127-0c98-4725-84bf-dcd8dd4cd47e"
    },
    {
      "cell_type": "code",
      "source": [
        "class TweetSenderBot:\n",
        "    \n",
        "    DEBUG_MODE = False\n",
        "    \n",
        "    def __init__(self,path_to_key_json=\"twitter_keys.json\",path_to_text_files=\"tweet_text_files\"):\n",
        "        \n",
        "        print(\"Fetching API keys...\")\n",
        "        key_dict = json.load(open(path_to_key_json))\n",
        "        \n",
        "        print(\"Instantiating client....\")\n",
        "        \n",
        "        self.client = tweepy.Client(\n",
        "            consumer_key=key_dict[\"api_key\"], consumer_secret=key_dict[\"api_key_secret\"],\n",
        "            access_token=key_dict[\"access_token\"], access_token_secret=key_dict[\"access_secret\"]\n",
        "        )\n",
        "        \n",
        "        \n",
        "        print(\"Pulling files with tweets to send....\")\n",
        "        tweet_files = glob.glob(path_to_text_files + '/*.txt')\n",
        "        \n",
        "        print(\"Found {} files containing tweets to send\".format(str(len(tweet_files))))\n",
        "        \n",
        "        if self.DEBUG_MODE:\n",
        "            print(tweet_files)\n",
        "        \n",
        "        tweets_to_send_list = []\n",
        "        \n",
        "        for tweet_file in tweet_files:\n",
        "            with open(tweet_file, 'r') as file:\n",
        "                tweet_body = file.read().replace('\\n', '')\n",
        "                tweets_to_send_list.append(tweet_body)\n",
        "                \n",
        "        if self.DEBUG_MODE:\n",
        "            print(tweets_to_send_list)\n",
        "            \n",
        "        self.tweets_to_send_list = tweets_to_send_list\n",
        "            \n",
        "\n",
        "    @staticmethod\n",
        "    def delay(delay_min=1,delay_max=30):\n",
        "        seconds_to_wait = randrange(delay_min,delay_max)\n",
        "        print(\"Will wait {} seconds before sending tweet\".format(seconds_to_wait))\n",
        "        time.sleep(seconds_to_wait)\n",
        "        \n",
        "        \n",
        "    def auto_send_tweet(self,delay_min=1,delay_max=30):\n",
        "        tweet_body = choice(self.tweets_to_send_list)\n",
        "        \n",
        "        dt_string = datetime.now().strftime(\"%d/%m/%Y %H:%M:%S\")\n",
        "        \n",
        "        tweet_body = tweet_body + \" \\n \" + dt_string\n",
        "        \n",
        "        print(\"Will send the following tweet after waiting for a random delay\")\n",
        "        print(tweet_body)\n",
        "        self.delay(delay_min,delay_max)\n",
        "        \n",
        "        if self.DEBUG_MODE:\n",
        "            print(\"WARNING: Client wrapper is in debug mode. No tweet will be sent\")\n",
        "            print(\"Would have send tweet:\")\n",
        "            print(tweet_body)\n",
        "            return\n",
        "        \n",
        "        response = self.client.create_tweet(text=tweet_body)\n",
        "        return response"
      ],
      "outputs": [],
      "execution_count": 17,
      "metadata": {
        "execution": {
          "iopub.status.busy": "2022-07-24T01:28:35.107Z",
          "iopub.execute_input": "2022-07-24T01:28:35.110Z",
          "iopub.status.idle": "2022-07-24T01:28:35.116Z",
          "shell.execute_reply": "2022-07-24T01:28:35.119Z"
        }
      },
      "id": "5a5a805d-ebfc-4949-a632-d3f07866bfa1"
    },
    {
      "cell_type": "code",
      "source": [
        "simplified_client = TweetSenderBot()"
      ],
      "outputs": [
        {
          "output_type": "stream",
          "name": "stdout",
          "text": [
            "Fetching API keys...\n",
            "Instantiating client....\n",
            "Pulling files with tweets to send....\n",
            "Found 4 files containing tweets to send\n"
          ]
        }
      ],
      "execution_count": 18,
      "metadata": {
        "execution": {
          "iopub.status.busy": "2022-07-24T01:28:35.637Z",
          "iopub.execute_input": "2022-07-24T01:28:35.641Z",
          "iopub.status.idle": "2022-07-24T01:28:35.648Z",
          "shell.execute_reply": "2022-07-24T01:28:35.651Z"
        }
      },
      "id": "7235f5a8-ea00-4352-8a76-bc92450d7c5e"
    },
    {
      "cell_type": "code",
      "source": [
        "response = simplified_client.auto_send_tweet(1,30)"
      ],
      "outputs": [
        {
          "output_type": "stream",
          "name": "stdout",
          "text": [
            "Will send the following tweet after waiting for a random delay\n",
            "Testing API # 4 \n",
            " 23/07/2022 18:28:36\n",
            "Will wait 6 seconds before sending tweet\n"
          ]
        }
      ],
      "execution_count": 19,
      "metadata": {
        "execution": {
          "iopub.status.busy": "2022-07-24T01:28:36.785Z",
          "iopub.execute_input": "2022-07-24T01:28:36.788Z",
          "iopub.status.idle": "2022-07-24T01:28:42.983Z",
          "shell.execute_reply": "2022-07-24T01:28:42.993Z"
        }
      },
      "id": "c0b165dd-5e45-4e5a-885d-4d4b18d465e6"
    },
    {
      "cell_type": "code",
      "source": [
        "response.data['text']"
      ],
      "outputs": [
        {
          "output_type": "execute_result",
          "execution_count": 22,
          "data": {
            "text/plain": "'Testing API # 4 \\n 23/07/2022 18:28:36'"
          },
          "metadata": {}
        }
      ],
      "execution_count": 22,
      "metadata": {
        "execution": {
          "iopub.status.busy": "2022-07-24T01:29:16.543Z",
          "iopub.execute_input": "2022-07-24T01:29:16.547Z",
          "iopub.status.idle": "2022-07-24T01:29:16.555Z",
          "shell.execute_reply": "2022-07-24T01:29:16.558Z"
        }
      },
      "id": "8f1a9ded-e3bd-46d2-a44f-804d00247e67"
    },
    {
      "cell_type": "code",
      "source": [
        "response"
      ],
      "outputs": [
        {
          "output_type": "execute_result",
          "execution_count": 23,
          "data": {
            "text/plain": "Response(data={'id': '1551016492673601537', 'text': 'Testing API # 4 \\n 23/07/2022 18:28:36'}, includes={}, errors=[], meta={})"
          },
          "metadata": {}
        }
      ],
      "execution_count": 23,
      "metadata": {
        "collapsed": true,
        "jupyter": {
          "source_hidden": false,
          "outputs_hidden": false
        },
        "nteract": {
          "transient": {
            "deleting": false
          }
        },
        "execution": {
          "iopub.status.busy": "2022-07-24T01:38:49.793Z",
          "iopub.execute_input": "2022-07-24T01:38:49.800Z",
          "iopub.status.idle": "2022-07-24T01:38:49.809Z",
          "shell.execute_reply": "2022-07-24T01:38:49.812Z"
        }
      },
      "id": "0dbe5fdb-ab7c-490c-a492-93bf383d806b"
    },
    {
      "cell_type": "code",
      "source": [
        "len(response.errors)"
      ],
      "outputs": [
        {
          "output_type": "execute_result",
          "execution_count": 24,
          "data": {
            "text/plain": "0"
          },
          "metadata": {}
        }
      ],
      "execution_count": 24,
      "metadata": {
        "collapsed": true,
        "jupyter": {
          "source_hidden": false,
          "outputs_hidden": false
        },
        "nteract": {
          "transient": {
            "deleting": false
          }
        },
        "execution": {
          "iopub.status.busy": "2022-07-24T01:39:06.524Z",
          "iopub.execute_input": "2022-07-24T01:39:06.535Z",
          "iopub.status.idle": "2022-07-24T01:39:06.544Z",
          "shell.execute_reply": "2022-07-24T01:39:06.547Z"
        }
      },
      "id": "e961e6a0-be7e-4ff0-a5c1-dd38a5937e92"
    },
    {
      "cell_type": "code",
      "source": [],
      "outputs": [],
      "execution_count": null,
      "metadata": {
        "collapsed": true,
        "jupyter": {
          "source_hidden": false,
          "outputs_hidden": false
        },
        "nteract": {
          "transient": {
            "deleting": false
          }
        }
      },
      "id": "50d27baf-5203-4dcb-884c-6ced47a1b073"
    }
  ],
  "metadata": {
    "kernelspec": {
      "display_name": "Python 3 (ipykernel)",
      "language": "python",
      "name": "python3"
    },
    "language_info": {
      "name": "python",
      "version": "3.10.5",
      "mimetype": "text/x-python",
      "codemirror_mode": {
        "name": "ipython",
        "version": 3
      },
      "pygments_lexer": "ipython3",
      "nbconvert_exporter": "python",
      "file_extension": ".py"
    },
    "nteract": {
      "version": "0.28.0"
    }
  },
  "nbformat": 4,
  "nbformat_minor": 5
}
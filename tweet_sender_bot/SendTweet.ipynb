{
  "cells": [
    {
      "cell_type": "code",
      "source": [
        "import tweepy\n",
        "import time\n",
        "from random import randrange, choice\n",
        "import json\n",
        "import os\n",
        "import glob\n",
        "from datetime import datetime\n",
        "from tweet_sender_bot import TweetSenderBot"
      ],
      "outputs": [],
      "execution_count": null,
      "metadata": {
        "execution": {
          "iopub.status.busy": "2022-07-24T02:42:23.835Z",
          "iopub.execute_input": "2022-07-24T02:42:23.840Z",
          "iopub.status.idle": "2022-07-24T02:42:23.885Z",
          "shell.execute_reply": "2022-07-24T02:42:23.894Z"
        }
      },
      "id": "e295af7c-aa16-45b5-a299-76fa2111b2ac"
    },
    {
      "cell_type": "code",
      "source": [
        "simplified_client = TweetSenderBot()"
      ],
      "outputs": [],
      "execution_count": null,
      "metadata": {
        "execution": {
          "iopub.status.busy": "2022-07-24T02:42:24.927Z",
          "iopub.execute_input": "2022-07-24T02:42:24.931Z",
          "iopub.status.idle": "2022-07-24T02:42:24.941Z",
          "shell.execute_reply": "2022-07-24T02:42:24.946Z"
        }
      },
      "id": "7235f5a8-ea00-4352-8a76-bc92450d7c5e"
    },
    {
      "cell_type": "code",
      "source": [
        "response = simplified_client.auto_send_tweet(1,30)"
      ],
      "outputs": [],
      "execution_count": null,
      "metadata": {
        "execution": {
          "iopub.status.busy": "2022-07-24T02:42:35.258Z",
          "iopub.execute_input": "2022-07-24T02:42:35.264Z",
          "iopub.status.idle": "2022-07-24T01:28:42.983Z",
          "shell.execute_reply": "2022-07-24T01:28:42.993Z"
        }
      },
      "id": "c0b165dd-5e45-4e5a-885d-4d4b18d465e6"
    },
    {
      "cell_type": "code",
      "source": [
        "response.data['text']"
      ],
      "outputs": [],
      "execution_count": null,
      "metadata": {
        "execution": {
          "iopub.status.busy": "2022-07-24T01:29:16.543Z",
          "iopub.execute_input": "2022-07-24T01:29:16.547Z",
          "iopub.status.idle": "2022-07-24T01:29:16.555Z",
          "shell.execute_reply": "2022-07-24T01:29:16.558Z"
        }
      },
      "id": "8f1a9ded-e3bd-46d2-a44f-804d00247e67"
    },
    {
      "cell_type": "code",
      "source": [
        "response"
      ],
      "outputs": [],
      "execution_count": null,
      "metadata": {
        "collapsed": true,
        "jupyter": {
          "source_hidden": false,
          "outputs_hidden": false
        },
        "nteract": {
          "transient": {
            "deleting": false
          }
        },
        "execution": {
          "iopub.status.busy": "2022-07-24T01:38:49.793Z",
          "iopub.execute_input": "2022-07-24T01:38:49.800Z",
          "iopub.status.idle": "2022-07-24T01:38:49.809Z",
          "shell.execute_reply": "2022-07-24T01:38:49.812Z"
        }
      },
      "id": "0dbe5fdb-ab7c-490c-a492-93bf383d806b"
    },
    {
      "cell_type": "code",
      "source": [
        "len(response.errors)"
      ],
      "outputs": [],
      "execution_count": null,
      "metadata": {
        "collapsed": true,
        "jupyter": {
          "source_hidden": false,
          "outputs_hidden": false
        },
        "nteract": {
          "transient": {
            "deleting": false
          }
        },
        "execution": {
          "iopub.status.busy": "2022-07-24T01:39:06.524Z",
          "iopub.execute_input": "2022-07-24T01:39:06.535Z",
          "iopub.status.idle": "2022-07-24T01:39:06.544Z",
          "shell.execute_reply": "2022-07-24T01:39:06.547Z"
        }
      },
      "id": "e961e6a0-be7e-4ff0-a5c1-dd38a5937e92"
    },
    {
      "cell_type": "code",
      "source": [],
      "outputs": [],
      "execution_count": null,
      "metadata": {
        "collapsed": true,
        "jupyter": {
          "source_hidden": false,
          "outputs_hidden": false
        },
        "nteract": {
          "transient": {
            "deleting": false
          }
        }
      },
      "id": "50d27baf-5203-4dcb-884c-6ced47a1b073"
    }
  ],
  "metadata": {
    "kernelspec": {
      "display_name": "Python 3 (ipykernel)",
      "language": "python",
      "name": "python3"
    },
    "language_info": {
      "name": "python",
      "version": "3.10.5",
      "mimetype": "text/x-python",
      "codemirror_mode": {
        "name": "ipython",
        "version": 3
      },
      "pygments_lexer": "ipython3",
      "nbconvert_exporter": "python",
      "file_extension": ".py"
    },
    "nteract": {
      "version": "0.28.0"
    }
  },
  "nbformat": 4,
  "nbformat_minor": 5
}